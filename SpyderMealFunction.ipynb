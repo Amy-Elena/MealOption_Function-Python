{
 "cells": [
  {
   "cell_type": "code",
   "execution_count": 1,
   "id": "62fc4522-667e-43ee-9d0d-f97d3d6d918c",
   "metadata": {},
   "outputs": [
    {
     "name": "stdout",
     "output_type": "stream",
     "text": [
      "yummy suggests Nigerian regional cuisines for breakfast, lunch and dinner.\n",
      "\n"
     ]
    },
    {
     "name": "stdin",
     "output_type": "stream",
     "text": [
      "\n",
      "Hi foodie! what is your first name?:  Amara\n",
      "\n",
      "Your city in Nigeria, is it in the east, west, north or south?:  north\n",
      "\n",
      "Great! is it morning, afternoon or evening?:  afternoon\n"
     ]
    },
    {
     "name": "stdout",
     "output_type": "stream",
     "text": [
      "\n",
      ">>>>>> Amara! Your lunch idea is: Tuwo & Okro Soup\n",
      "\n",
      "------ Meals are never boring with Yummy! ------\n"
     ]
    },
    {
     "name": "stdin",
     "output_type": "stream",
     "text": [
      "\n",
      "Do you want another meal option? (Y:Yes, N:No):  yes\n"
     ]
    },
    {
     "name": "stdout",
     "output_type": "stream",
     "text": [
      "\n",
      "There's something wrong with your input, please try again\n"
     ]
    },
    {
     "name": "stdin",
     "output_type": "stream",
     "text": [
      "\n",
      "Do you want another meal option? (Y:Yes, N:No):  y\n"
     ]
    },
    {
     "name": "stdout",
     "output_type": "stream",
     "text": [
      "yummy suggests Nigerian regional cuisines for breakfast, lunch and dinner.\n",
      "\n"
     ]
    },
    {
     "name": "stdin",
     "output_type": "stream",
     "text": [
      "\n",
      "Hi foodie! what is your first name?:  amara\n",
      "\n",
      "Your city in Nigeria, is it in the east, west, north or south?:  east\n",
      "\n",
      "Great! is it morning, afternoon or evening?:  evening\n"
     ]
    },
    {
     "name": "stdout",
     "output_type": "stream",
     "text": [
      "\n",
      ">>>>>> Amara! Your dinner idea is: Ukwa\n",
      "\n",
      "------ Meals are never boring with Yummy! ------\n"
     ]
    },
    {
     "name": "stdin",
     "output_type": "stream",
     "text": [
      "\n",
      "Do you want another meal option? (Y:Yes, N:No):  n\n"
     ]
    },
    {
     "name": "stdout",
     "output_type": "stream",
     "text": [
      "\n",
      "Alright enjoy your meal\n"
     ]
    }
   ],
   "source": [
    "%run \"C:\\Users\\Amara\\Amy_Jupyterlab\\Test\\MealOptionFunction.py\""
   ]
  }
 ],
 "metadata": {
  "kernelspec": {
   "display_name": "Python 3 (ipykernel)",
   "language": "python",
   "name": "python3"
  },
  "language_info": {
   "codemirror_mode": {
    "name": "ipython",
    "version": 3
   },
   "file_extension": ".py",
   "mimetype": "text/x-python",
   "name": "python",
   "nbconvert_exporter": "python",
   "pygments_lexer": "ipython3",
   "version": "3.9.16"
  }
 },
 "nbformat": 4,
 "nbformat_minor": 5
}
