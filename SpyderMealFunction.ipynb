{
 "cells": [
  {
   "cell_type": "code",
   "execution_count": 2,
   "id": "62fc4522-667e-43ee-9d0d-f97d3d6d918c",
   "metadata": {},
   "outputs": [
    {
     "name": "stdout",
     "output_type": "stream",
     "text": [
      "yummy suggests Nigerian regional cuisines for breakfast, lunch and dinner.\n",
      "\n"
     ]
    },
    {
     "name": "stdin",
     "output_type": "stream",
     "text": [
      "\n",
      "Hi foodie! what is your first name?:  Amara\n",
      "\n",
      "Your city in Nigeria, is it in the east, west, north or south?:  West\n",
      "\n",
      "Great! is it morning, afternoon or evening?:  Morning\n"
     ]
    },
    {
     "name": "stdout",
     "output_type": "stream",
     "text": [
      "\n",
      ">>>>>> Amara! Your breakfast idea is: Akara & Custard\n",
      "\n",
      "------ Meals are never boring with Yummy! ------\n"
     ]
    },
    {
     "name": "stdin",
     "output_type": "stream",
     "text": [
      "\n",
      "Do you want another meal option? (Y:Yes, N:No):  Y\n"
     ]
    },
    {
     "name": "stdout",
     "output_type": "stream",
     "text": [
      "yummy suggests Nigerian regional cuisines for breakfast, lunch and dinner.\n",
      "\n"
     ]
    },
    {
     "name": "stdin",
     "output_type": "stream",
     "text": [
      "\n",
      "Hi foodie! what is your first name?:  Amara\n",
      "\n",
      "Your city in Nigeria, is it in the east, west, north or south?:  East\n",
      "\n",
      "Great! is it morning, afternoon or evening?:  Afternoon\n"
     ]
    },
    {
     "name": "stdout",
     "output_type": "stream",
     "text": [
      "\n",
      ">>>>>> Amara! Your lunch idea is: Abacha & Fried Fish\n",
      "\n",
      "------ Meals are never boring with Yummy! ------\n"
     ]
    },
    {
     "name": "stdin",
     "output_type": "stream",
     "text": [
      "\n",
      "Do you want another meal option? (Y:Yes, N:No):  N\n"
     ]
    },
    {
     "name": "stdout",
     "output_type": "stream",
     "text": [
      "\n",
      "Alright enjoy your meal\n"
     ]
    }
   ],
   "source": [
    "%run \"C:\\Users\\Amara\\Amy_Jupyterlab\\HerTechTrail\\MealOptionFunction.py\""
   ]
  }
 ],
 "metadata": {
  "kernelspec": {
   "display_name": "Python 3 (ipykernel)",
   "language": "python",
   "name": "python3"
  },
  "language_info": {
   "codemirror_mode": {
    "name": "ipython",
    "version": 3
   },
   "file_extension": ".py",
   "mimetype": "text/x-python",
   "name": "python",
   "nbconvert_exporter": "python",
   "pygments_lexer": "ipython3",
   "version": "3.9.16"
  }
 },
 "nbformat": 4,
 "nbformat_minor": 5
}
